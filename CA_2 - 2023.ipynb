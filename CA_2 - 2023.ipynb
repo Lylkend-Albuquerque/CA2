{
 "cells": [
  {
   "cell_type": "markdown",
   "id": "3108fe27",
   "metadata": {},
   "source": [
    "# Data Preparation"
   ]
  },
  {
   "cell_type": "markdown",
   "id": "75513dc9",
   "metadata": {},
   "source": [
    "Let's begin performing data preparation to whole project that consist in:\n",
    "    - collecting\n",
    "    - cleaning \n",
    "    - transforming\n",
    "    - manipulating\n",
    " The raw data in regards to make a great analysis."
   ]
  },
  {
   "cell_type": "code",
   "execution_count": null,
   "id": "e5b54523",
   "metadata": {},
   "outputs": [],
   "source": [
    "import pandas as pd\n",
    "import plotly.express as px\n",
    "import matplotlib as plt"
   ]
  },
  {
   "cell_type": "code",
   "execution_count": null,
   "id": "87e45390",
   "metadata": {},
   "outputs": [],
   "source": [
    "# Due the different version of python can be found and each machine or libriries \n",
    "# I just decided to use this library to avoid distraction and anoing warnigs\n",
    "import warnings\n",
    "warnings.filterwarnings(\"ignore\")"
   ]
  },
  {
   "cell_type": "markdown",
   "id": "01ecca22",
   "metadata": {},
   "source": [
    "## Licence of use"
   ]
  },
  {
   "cell_type": "markdown",
   "id": "2490bad1",
   "metadata": {},
   "source": [
    "Working with Dublin airpot dataset:\n",
    "That dataset was collected from data.gov.ie - <https://data.gov.ie/dataset/tam07-passengers-freight-and-commercial-flights>\n",
    "licence by Creative Commons Attribution 4.0 (CC BY 4.0) <https://creativecommons.org/licenses/by/4.0/>\n",
    "\n",
    "Working with Hong Kong airport dataset:\n",
    "That dataset was collected from data.gov.hk - <https://www.immd.gov.hk/opendata/eng/transport/immigration_clearance/statistics_on_daily_passenger_traffic.csv>\n",
    "Open data licence by DATA.GOV.HK  <https://data.gov.hk/en/terms-and-conditions>"
   ]
  },
  {
   "cell_type": "code",
   "execution_count": null,
   "id": "3255f1e2",
   "metadata": {},
   "outputs": [],
   "source": [
    "df_irl = pd.read_csv(\"TAM07.csv\")\n",
    "df_irl"
   ]
  },
  {
   "cell_type": "code",
   "execution_count": null,
   "id": "943bcecc",
   "metadata": {},
   "outputs": [],
   "source": [
    "df_hkg = pd.read_csv(\"statistics_on_daily_passenger_traffic.csv\")\n",
    "df_hkg"
   ]
  },
  {
   "cell_type": "markdown",
   "id": "626743b4",
   "metadata": {},
   "source": [
    "## Making sure that my data set is ready to be explored - EDA (Exploratory Data Analysis) - Understanding the data and patterns\n",
    "\n",
    "    - df.info( ) # just with this command will be possible see shape(df.shape),types(df.dtypes)\n",
    "        and just above, when the DF's were created, it's noticed the shape of each DF.\n",
    "    "
   ]
  },
  {
   "cell_type": "code",
   "execution_count": null,
   "id": "331dacb4",
   "metadata": {},
   "outputs": [],
   "source": [
    "df_irl.info()"
   ]
  },
  {
   "cell_type": "raw",
   "id": "07aec321",
   "metadata": {},
   "source": [
    "Irish DS There's no null values that's great!!"
   ]
  },
  {
   "cell_type": "code",
   "execution_count": null,
   "id": "84c22f92",
   "metadata": {},
   "outputs": [],
   "source": [
    "df_hkg.info()"
   ]
  },
  {
   "cell_type": "raw",
   "id": "e792434c",
   "metadata": {},
   "source": [
    "Hong Kong DS There's a null column will be part of cleaning data"
   ]
  },
  {
   "cell_type": "markdown",
   "id": "d7c9cc8b",
   "metadata": {},
   "source": [
    "## Data Cleaning\n",
    " "
   ]
  },
  {
   "cell_type": "code",
   "execution_count": null,
   "id": "460fc9d2",
   "metadata": {},
   "outputs": [],
   "source": [
    "#Verifing if I have any data duplicated (inconsitent)\n",
    "duplicate_rows_df = df_irl[df_irl.duplicated()]\n",
    "print(\"number of duplicate rows: \", duplicate_rows_df.shape)"
   ]
  },
  {
   "cell_type": "code",
   "execution_count": null,
   "id": "d93b69fa",
   "metadata": {},
   "outputs": [],
   "source": [
    "duplicate_rows_df1 = df_hkg[df_hkg.duplicated()]\n",
    "print(\"number of duplicate rows: \", duplicate_rows_df1.shape)"
   ]
  },
  {
   "cell_type": "code",
   "execution_count": null,
   "id": "1dd07fd2",
   "metadata": {},
   "outputs": [],
   "source": [
    "# spliting the feature month in two new columns\n",
    "df_irl['Month'] = pd.to_datetime(df_irl['Month'], format='%Y %B')\n",
    "\n",
    "# Extract year and month into separate columns\n",
    "df_irl['year'] = df_irl['Month'].dt.year\n",
    "df_irl['month'] = df_irl['Month'].dt.month"
   ]
  },
  {
   "cell_type": "code",
   "execution_count": null,
   "id": "a7c1ca35",
   "metadata": {},
   "outputs": [],
   "source": [
    "#Converting the numbers to be work with real numbers and get a better visualisation\n",
    "df_irl [\"real_number\"] = (df_irl[\"VALUE\"] * 1000).astype(int)"
   ]
  },
  {
   "cell_type": "code",
   "execution_count": null,
   "id": "22cb610d",
   "metadata": {},
   "outputs": [],
   "source": [
    "#Cleaning dataset\n",
    "to_drop = [\"Statistic Label\", \"UNIT\", \"Flight Type\",\"Month\"]\n",
    "df_irl.drop(to_drop, inplace=True, axis=1)"
   ]
  },
  {
   "cell_type": "code",
   "execution_count": null,
   "id": "59aa05ca",
   "metadata": {},
   "outputs": [],
   "source": [
    "df_irl"
   ]
  },
  {
   "cell_type": "code",
   "execution_count": null,
   "id": "2770618e",
   "metadata": {},
   "outputs": [],
   "source": [
    "df_hkg['Date'] = pd.to_datetime(df_hkg['Date'], format='%d-%m-%Y', errors='coerce')\n",
    "\n",
    "# Create new columns for day, month, and year as integers\n",
    "df_hkg['day'] = df_hkg['Date'].dt.day.astype(int)\n",
    "df_hkg['month'] = df_hkg['Date'].dt.month.astype(int)\n",
    "df_hkg['year'] = df_hkg['Date'].dt.year.astype(int)"
   ]
  },
  {
   "cell_type": "code",
   "execution_count": null,
   "id": "d9227ddb",
   "metadata": {},
   "outputs": [],
   "source": [
    "# Filter rows where \"Control Point\" contains \"Airport\" and creating a new df \n",
    "df_hkg = df_hkg[df_hkg[\"Control Point\"].str.contains(\"Airport\")].reset_index(drop=True)"
   ]
  },
  {
   "cell_type": "code",
   "execution_count": null,
   "id": "a0043195",
   "metadata": {},
   "outputs": [],
   "source": [
    "df_hkg = df_hkg[(df_hkg['Date'] >= '2023-01-01') & (df_hkg['Date'] <= '2023-09-30')]"
   ]
  },
  {
   "cell_type": "code",
   "execution_count": null,
   "id": "e78b47a6",
   "metadata": {},
   "outputs": [],
   "source": [
    "#Cleaning dataset\n",
    "to_drop = [\"Unnamed: 7\", \"Date\", \"Control Point\"]\n",
    "df_hkg.drop(to_drop, inplace=True, axis=1)"
   ]
  },
  {
   "cell_type": "code",
   "execution_count": null,
   "id": "b7174b57",
   "metadata": {},
   "outputs": [],
   "source": [
    "df_hkg"
   ]
  },
  {
   "cell_type": "code",
   "execution_count": null,
   "id": "f0ad19f5",
   "metadata": {},
   "outputs": [],
   "source": [
    "df_hkg1"
   ]
  },
  {
   "cell_type": "markdown",
   "id": "126bc6ab",
   "metadata": {},
   "source": [
    "# Data preparation to Sentimental analysis - Dublin and Hong Kong airport"
   ]
  },
  {
   "cell_type": "markdown",
   "id": "a96c4e6a",
   "metadata": {},
   "source": [
    "In order to collect reviews about Dublin and Hong kong airports, Praw library it' going to be use to collect comments from Reddit.\n",
    "\n",
    "Note: Praw library is an officially supported way to interact with the Reddit API, and Reddit's Terms of Service does allow the use for non-commercial purposes. "
   ]
  },
  {
   "cell_type": "code",
   "execution_count": null,
   "id": "f6897464",
   "metadata": {},
   "outputs": [],
   "source": [
    "import praw\n",
    "from datetime import datetime as dt\n",
    "from dotenv import load_dotenv\n",
    "from os import getenv"
   ]
  },
  {
   "cell_type": "code",
   "execution_count": null,
   "id": "d9587941",
   "metadata": {},
   "outputs": [],
   "source": [
    "load_dotenv()\n",
    "\n",
    "def revw_reddit(subreddit,ask_query): # This function will collect reviews from reddit with 2 parameters to bring back a DF\n",
    "    reddit = praw.Reddit(\n",
    "        client_id=getenv(\"APP_ID\"),\n",
    "        client_secret=getenv(\"AP_SECRET\"),\n",
    "        user_agent=f\"{getenv('APP_NAME')} (by u/{getenv('REDDIT_USERNAME')})\",\n",
    "        username=getenv(\"REDDIT_USERNAME\"),\n",
    "        password=getenv(\"REDDIT_PASSWORD\")\n",
    "    )\n",
    "    subreddit = reddit.subreddit(subreddit)\n",
    "    results = subreddit.search(ask_query, limit=400)  \n",
    "\n",
    "# Creating Lists to store titles and texts to convert those in DF acordind my seach like Dublin, airport\n",
    "    titles = []\n",
    "    texts = []\n",
    "    \n",
    "# Collecting titles and texts which is the base to sentimental analisys\n",
    "    for submission in results:\n",
    "        titles.append(submission.title)\n",
    "        texts.append(submission.selftext)\n",
    "\n",
    "# Return a DataFrame with title and comments\n",
    "    return pd.DataFrame({'title': titles, 'text': texts})"
   ]
  },
  {
   "cell_type": "code",
   "execution_count": null,
   "id": "b575560c",
   "metadata": {},
   "outputs": [],
   "source": [
    "load_dotenv() #TEST of reading my .env document"
   ]
  },
  {
   "cell_type": "markdown",
   "id": "5794b22b",
   "metadata": {},
   "source": [
    "## Collecting reviews from Reddit - Dublin airport"
   ]
  },
  {
   "cell_type": "code",
   "execution_count": null,
   "id": "83740299",
   "metadata": {},
   "outputs": [],
   "source": [
    "df_dublin_reviews = revw_reddit(\"Dublin\",\"airport\")"
   ]
  },
  {
   "cell_type": "code",
   "execution_count": null,
   "id": "30b25eb5",
   "metadata": {},
   "outputs": [],
   "source": [
    "df_dublin_reviews"
   ]
  },
  {
   "cell_type": "markdown",
   "id": "392f3b10",
   "metadata": {},
   "source": [
    "## Collecting reviews from Reddit - Hong Kong airport"
   ]
  },
  {
   "cell_type": "code",
   "execution_count": null,
   "id": "6033e601",
   "metadata": {},
   "outputs": [],
   "source": [
    "df_hkg_reviews = revw_reddit(\"HongKong\",\"airport\")"
   ]
  },
  {
   "cell_type": "code",
   "execution_count": null,
   "id": "90d2ffb7",
   "metadata": {},
   "outputs": [],
   "source": [
    "df_hkg_reviews"
   ]
  },
  {
   "cell_type": "markdown",
   "id": "1dc943bb",
   "metadata": {},
   "source": [
    "### Preparing the datasets"
   ]
  },
  {
   "cell_type": "code",
   "execution_count": null,
   "id": "10fd0368",
   "metadata": {},
   "outputs": [],
   "source": [
    "#DUBLIN\n",
    "\n",
    "# Merging title and text in order to have mora words to analyse\n",
    "df_dublin_reviews['text'] = df_dublin_reviews['title'] + ' ' + df_dublin_reviews['text']\n",
    "df_dublin_reviews = df_dublin_reviews.drop(columns=['title'])\n",
    "\n",
    "# removing any special characters, double spaces, tabs etc.\n",
    "df_dublin_reviews['text'] = df_dublin_reviews['text'].str.replace('[^\\w\\s\\.]','')\n",
    "\n",
    "# Dropping na and duplicates\n",
    "df_dublin_reviews = df_dublin_reviews.dropna()\n",
    "df_dublin_reviews = df_dublin_reviews.drop_duplicates()\n",
    "\n",
    "#exporting the data set as csv - to share indeed\n",
    "df_dublin_reviews.to_csv('df_dublin_reviews.csv', index = False)\n"
   ]
  },
  {
   "cell_type": "code",
   "execution_count": null,
   "id": "3f8175c8",
   "metadata": {},
   "outputs": [],
   "source": [
    "#HONG KONG\n",
    "\n",
    "# Merging title and text in order to have mora words to analyse\n",
    "df_hkg_reviews['text'] = df_hkg_reviews['title'] + ' ' + df_hkg_reviews['text']\n",
    "df_hkg_reviews = df_hkg_reviews.drop(columns=['title'])\n",
    "\n",
    "# removing any special characters, double spaces, tabs etc.\n",
    "df_hkg_reviews['text'] = df_hkg_reviews['text'].str.replace('[^\\w\\s\\.]','')\n",
    "\n",
    "# Dropping na and duplicates\n",
    "df_hkg_reviews = df_hkg_reviews.dropna()\n",
    "df_hkg_reviews = df_hkg_reviews.drop_duplicates()\n",
    "\n",
    "#exporting the data set as csv - to share indeed\n",
    "df_hkg_reviews.to_csv('df_hkg_reviews.csv', index = False)\n"
   ]
  },
  {
   "cell_type": "code",
   "execution_count": 19,
   "id": "27019d4d",
   "metadata": {},
   "outputs": [
    {
     "data": {
      "text/html": [
       "<div>\n",
       "<style scoped>\n",
       "    .dataframe tbody tr th:only-of-type {\n",
       "        vertical-align: middle;\n",
       "    }\n",
       "\n",
       "    .dataframe tbody tr th {\n",
       "        vertical-align: top;\n",
       "    }\n",
       "\n",
       "    .dataframe thead th {\n",
       "        text-align: right;\n",
       "    }\n",
       "</style>\n",
       "<table border=\"1\" class=\"dataframe\">\n",
       "  <thead>\n",
       "    <tr style=\"text-align: right;\">\n",
       "      <th></th>\n",
       "      <th>Airports in Ireland</th>\n",
       "      <th>Country</th>\n",
       "      <th>Direction</th>\n",
       "      <th>VALUE</th>\n",
       "      <th>year</th>\n",
       "      <th>month</th>\n",
       "      <th>real_number</th>\n",
       "    </tr>\n",
       "  </thead>\n",
       "  <tbody>\n",
       "    <tr>\n",
       "      <th>0</th>\n",
       "      <td>Dublin</td>\n",
       "      <td>All Countries</td>\n",
       "      <td>Arrival</td>\n",
       "      <td>1056.4</td>\n",
       "      <td>2023</td>\n",
       "      <td>1</td>\n",
       "      <td>1056400</td>\n",
       "    </tr>\n",
       "    <tr>\n",
       "      <th>1</th>\n",
       "      <td>Dublin</td>\n",
       "      <td>All Countries</td>\n",
       "      <td>Departure</td>\n",
       "      <td>1014.5</td>\n",
       "      <td>2023</td>\n",
       "      <td>1</td>\n",
       "      <td>1014500</td>\n",
       "    </tr>\n",
       "    <tr>\n",
       "      <th>2</th>\n",
       "      <td>Dublin</td>\n",
       "      <td>Ireland (domestic)</td>\n",
       "      <td>Arrival</td>\n",
       "      <td>5.7</td>\n",
       "      <td>2023</td>\n",
       "      <td>1</td>\n",
       "      <td>5700</td>\n",
       "    </tr>\n",
       "    <tr>\n",
       "      <th>3</th>\n",
       "      <td>Dublin</td>\n",
       "      <td>Ireland (domestic)</td>\n",
       "      <td>Departure</td>\n",
       "      <td>3.7</td>\n",
       "      <td>2023</td>\n",
       "      <td>1</td>\n",
       "      <td>3700</td>\n",
       "    </tr>\n",
       "    <tr>\n",
       "      <th>4</th>\n",
       "      <td>Dublin</td>\n",
       "      <td>Austria</td>\n",
       "      <td>Arrival</td>\n",
       "      <td>8.7</td>\n",
       "      <td>2023</td>\n",
       "      <td>1</td>\n",
       "      <td>8700</td>\n",
       "    </tr>\n",
       "    <tr>\n",
       "      <th>...</th>\n",
       "      <td>...</td>\n",
       "      <td>...</td>\n",
       "      <td>...</td>\n",
       "      <td>...</td>\n",
       "      <td>...</td>\n",
       "      <td>...</td>\n",
       "      <td>...</td>\n",
       "    </tr>\n",
       "    <tr>\n",
       "      <th>1057</th>\n",
       "      <td>Dublin</td>\n",
       "      <td>United Arab Emirates</td>\n",
       "      <td>Departure</td>\n",
       "      <td>26.3</td>\n",
       "      <td>2023</td>\n",
       "      <td>9</td>\n",
       "      <td>26300</td>\n",
       "    </tr>\n",
       "    <tr>\n",
       "      <th>1058</th>\n",
       "      <td>Dublin</td>\n",
       "      <td>Other Asian countries (4)</td>\n",
       "      <td>Arrival</td>\n",
       "      <td>16.4</td>\n",
       "      <td>2023</td>\n",
       "      <td>9</td>\n",
       "      <td>16400</td>\n",
       "    </tr>\n",
       "    <tr>\n",
       "      <th>1059</th>\n",
       "      <td>Dublin</td>\n",
       "      <td>Other Asian countries (4)</td>\n",
       "      <td>Departure</td>\n",
       "      <td>14.8</td>\n",
       "      <td>2023</td>\n",
       "      <td>9</td>\n",
       "      <td>14800</td>\n",
       "    </tr>\n",
       "    <tr>\n",
       "      <th>1060</th>\n",
       "      <td>Dublin</td>\n",
       "      <td>Oceania and Polar regions (1)</td>\n",
       "      <td>Arrival</td>\n",
       "      <td>0.0</td>\n",
       "      <td>2023</td>\n",
       "      <td>9</td>\n",
       "      <td>0</td>\n",
       "    </tr>\n",
       "    <tr>\n",
       "      <th>1061</th>\n",
       "      <td>Dublin</td>\n",
       "      <td>Oceania and Polar regions (1)</td>\n",
       "      <td>Departure</td>\n",
       "      <td>0.0</td>\n",
       "      <td>2023</td>\n",
       "      <td>9</td>\n",
       "      <td>0</td>\n",
       "    </tr>\n",
       "  </tbody>\n",
       "</table>\n",
       "<p>1062 rows × 7 columns</p>\n",
       "</div>"
      ],
      "text/plain": [
       "     Airports in Ireland                        Country  Direction   VALUE  \\\n",
       "0                 Dublin                  All Countries    Arrival  1056.4   \n",
       "1                 Dublin                  All Countries  Departure  1014.5   \n",
       "2                 Dublin             Ireland (domestic)    Arrival     5.7   \n",
       "3                 Dublin             Ireland (domestic)  Departure     3.7   \n",
       "4                 Dublin                        Austria    Arrival     8.7   \n",
       "...                  ...                            ...        ...     ...   \n",
       "1057              Dublin           United Arab Emirates  Departure    26.3   \n",
       "1058              Dublin      Other Asian countries (4)    Arrival    16.4   \n",
       "1059              Dublin      Other Asian countries (4)  Departure    14.8   \n",
       "1060              Dublin  Oceania and Polar regions (1)    Arrival     0.0   \n",
       "1061              Dublin  Oceania and Polar regions (1)  Departure     0.0   \n",
       "\n",
       "      year  month  real_number  \n",
       "0     2023      1      1056400  \n",
       "1     2023      1      1014500  \n",
       "2     2023      1         5700  \n",
       "3     2023      1         3700  \n",
       "4     2023      1         8700  \n",
       "...    ...    ...          ...  \n",
       "1057  2023      9        26300  \n",
       "1058  2023      9        16400  \n",
       "1059  2023      9        14800  \n",
       "1060  2023      9            0  \n",
       "1061  2023      9            0  \n",
       "\n",
       "[1062 rows x 7 columns]"
      ]
     },
     "execution_count": 19,
     "metadata": {},
     "output_type": "execute_result"
    }
   ],
   "source": [
    " df_irl"
   ]
  },
  {
   "cell_type": "code",
   "execution_count": null,
   "id": "24542a71",
   "metadata": {},
   "outputs": [],
   "source": [
    "df_hkg"
   ]
  },
  {
   "cell_type": "code",
   "execution_count": null,
   "id": "a4466049",
   "metadata": {},
   "outputs": [],
   "source": [
    "# Just in case if needs an update\n",
    "#!pip install dash --upgrade\n",
    "#!pip install plotly --upgrade"
   ]
  },
  {
   "cell_type": "code",
   "execution_count": 38,
   "id": "74292c39",
   "metadata": {},
   "outputs": [
    {
     "data": {
      "text/html": [
       "\n",
       "        <iframe\n",
       "            width=\"100%\"\n",
       "            height=\"650\"\n",
       "            src=\"http://127.0.0.1:8051/\"\n",
       "            frameborder=\"0\"\n",
       "            allowfullscreen\n",
       "            \n",
       "        ></iframe>\n",
       "        "
      ],
      "text/plain": [
       "<IPython.lib.display.IFrame at 0x168204210>"
      ]
     },
     "metadata": {},
     "output_type": "display_data"
    }
   ],
   "source": [
    "import dash\n",
    "import dash_core_components as dcc\n",
    "import dash_html_components as html\n",
    "from dash.dependencies import Input, Output\n",
    "import pandas as pd\n",
    "import plotly.graph_objects as go\n",
    "\n",
    "# Assuming your dataset is df_irl\n",
    "df_irl = pd.read_csv('df_irl.csv')  # Replace with the actual filename or path\n",
    "\n",
    "# Create a Dash app\n",
    "app = dash.Dash(__name__)\n",
    "\n",
    "# Initial month for default display\n",
    "initial_month = df_irl['month'].unique()[0]\n",
    "\n",
    "# Create an interactive choropleth map with Plotly Graph Objects\n",
    "fig = go.Figure()\n",
    "\n",
    "# Add initial frame\n",
    "fig.add_trace(\n",
    "    go.Choropleth(\n",
    "        locations=df_irl['Country'],\n",
    "        z=df_irl[df_irl['month'] == initial_month]['real_number'],\n",
    "        hoverinfo='location+z',\n",
    "        locationmode='country names',\n",
    "        colorscale='RdBu',  # Change the color scale here\n",
    "        colorbar=dict(title='Number of Arrivals (log scale)'),\n",
    "    )\n",
    ")\n",
    "\n",
    "# Add colorbar for reference\n",
    "fig.update_layout(coloraxis_colorbar=dict(title=\"Number of Arrivals (log scale)\"))\n",
    "\n",
    "# Update layout for larger graph\n",
    "fig.update_layout(\n",
    "    height=800,  # Change the height as per your preference\n",
    ")\n",
    "\n",
    "# Define layout for the app\n",
    "app.layout = html.Div([\n",
    "    dcc.Graph(id='air-traffic-map', figure=fig),\n",
    "])\n",
    "\n",
    "# Define callback to update choropleth map based on selected month\n",
    "@app.callback(\n",
    "    Output('air-traffic-map', 'figure'),\n",
    "    [Input('air-traffic-map', 'relayoutData')]\n",
    ")\n",
    "def update_choropleth_map(relayout_data):\n",
    "    frames = []\n",
    "\n",
    "    for frame_month in df_irl['month'].unique():\n",
    "        frame_data = go.Choropleth(\n",
    "            locations=df_irl['Country'],\n",
    "            z=df_irl[df_irl['month'] == frame_month]['real_number'],\n",
    "            hoverinfo='location+z',\n",
    "            locationmode='country names',\n",
    "            colorscale='RdBu',  # Change the color scale here\n",
    "            colorbar=dict(title='Number of Arrivals (log scale)'),\n",
    "        )\n",
    "        frame = go.Frame(data=[frame_data], name=str(frame_month))\n",
    "        frames.append(frame)\n",
    "\n",
    "    # Update layout properties\n",
    "    fig.update_layout(\n",
    "        updatemenus=[{\n",
    "            'buttons': [\n",
    "                {\n",
    "                    'args': [None, {'frame': {'duration': 500, 'redraw': True}, 'fromcurrent': True}],\n",
    "                    'label': 'Play',\n",
    "                    'method': 'animate',\n",
    "                },\n",
    "                {\n",
    "                    'args': [[None], {'frame': {'duration': 0, 'redraw': True}, 'mode': 'immediate', 'transition': {'duration': 0}}],\n",
    "                    'label': 'Pause',\n",
    "                    'method': 'animate',\n",
    "                },\n",
    "            ],\n",
    "            'direction': 'left',\n",
    "            'pad': {'r': 10, 't': 87},\n",
    "            'showactive': False,\n",
    "            'type': 'buttons',\n",
    "            'x': 0.1,\n",
    "            'xanchor': 'right',\n",
    "            'y': 0,\n",
    "            'yanchor': 'top',\n",
    "        }],\n",
    "        sliders=[{\n",
    "            'active': 0,\n",
    "            'yanchor': 'top',\n",
    "            'xanchor': 'left',\n",
    "            'currentvalue': {\n",
    "                'font': {'size': 16},\n",
    "                'prefix': 'Month:',\n",
    "                'visible': True,\n",
    "                'xanchor': 'right',\n",
    "            },\n",
    "            'transition': {'duration': 300, 'easing': 'cubic-in-out'},\n",
    "            'steps': [{'args': [[str(frame)], {'frame': {'duration': 300, 'redraw': True}, 'mode': 'immediate', 'transition': {'duration': 300}}],\n",
    "                       'label': str(frame),\n",
    "                       'method': 'animate'} for frame in df_irl['month'].unique()],\n",
    "        }],\n",
    "    )\n",
    "\n",
    "    fig.frames = frames\n",
    "\n",
    "    return fig\n",
    "\n",
    "# Run the app\n",
    "if __name__ == '__main__':\n",
    "    app.run_server(debug=True, port=8051)\n"
   ]
  },
  {
   "cell_type": "code",
   "execution_count": null,
   "id": "fa851b65",
   "metadata": {},
   "outputs": [],
   "source": [
    " have to clean up the large skewed numbers"
   ]
  }
 ],
 "metadata": {
  "kernelspec": {
   "display_name": "Python 3 (ipykernel)",
   "language": "python",
   "name": "python3"
  },
  "language_info": {
   "codemirror_mode": {
    "name": "ipython",
    "version": 3
   },
   "file_extension": ".py",
   "mimetype": "text/x-python",
   "name": "python",
   "nbconvert_exporter": "python",
   "pygments_lexer": "ipython3",
   "version": "3.11.6"
  }
 },
 "nbformat": 4,
 "nbformat_minor": 5
}
